{
 "metadata": {
  "language_info": {
   "codemirror_mode": {
    "name": "ipython",
    "version": 3
   },
   "file_extension": ".py",
   "mimetype": "text/x-python",
   "name": "python",
   "nbconvert_exporter": "python",
   "pygments_lexer": "ipython3",
   "version": "3.6.11-final"
  },
  "orig_nbformat": 2,
  "kernelspec": {
   "name": "python_defaultSpec_1599967386992",
   "display_name": "Python 3.6.11 64-bit ('gpt2-simple': conda)"
  }
 },
 "nbformat": 4,
 "nbformat_minor": 2,
 "cells": [
  {
   "cell_type": "code",
   "execution_count": 1,
   "metadata": {
    "tags": []
   },
   "outputs": [
    {
     "output_type": "stream",
     "name": "stdout",
     "text": "WARNING:tensorflow:\nThe TensorFlow contrib module will not be included in TensorFlow 2.0.\nFor more information, please see:\n  * https://github.com/tensorflow/community/blob/master/rfcs/20180907-contrib-sunset.md\n  * https://github.com/tensorflow/addons\n  * https://github.com/tensorflow/io (for I/O related ops)\nIf you depend on functionality not listed there, please file an issue.\n\n"
    }
   ],
   "source": [
    "import tensorflow\n",
    "import gpt_2_simple as gpt2"
   ]
  },
  {
   "cell_type": "code",
   "execution_count": 2,
   "metadata": {
    "tags": []
   },
   "outputs": [
    {
     "output_type": "stream",
     "name": "stdout",
     "text": "Loading checkpoint checkpoint/run1/model-1000\nINFO:tensorflow:Restoring parameters from checkpoint/run1/model-1000\n"
    }
   ],
   "source": [
    "sess = gpt2.start_tf_sess()\n",
    "gpt2.load_gpt2(sess)"
   ]
  },
  {
   "cell_type": "code",
   "execution_count": 11,
   "metadata": {},
   "outputs": [],
   "source": [
    "def generate_from_seed(seed, session=sess, n_samples=1, max_len=200, temp=0.7):\n",
    "    gen = gpt2.generate(sess,\n",
    "              length=max_len,\n",
    "              temperature=temp,\n",
    "              nsamples=n_samples,\n",
    "              batch_size=1,\n",
    "              prefix=seed,\n",
    "              return_as_list=True\n",
    "              )\n",
    "    return gen[0]"
   ]
  },
  {
   "cell_type": "code",
   "execution_count": 12,
   "metadata": {
    "tags": []
   },
   "outputs": [],
   "source": [
    "test = generate_from_seed('In a world without nerds')"
   ]
  },
  {
   "cell_type": "code",
   "execution_count": 13,
   "metadata": {},
   "outputs": [
    {
     "output_type": "execute_result",
     "data": {
      "text/plain": "'In a world without nerds, I guess that\\'s what I was hoping for. I guess I\\'m a high school girl with a love for video games. I guess I\\'m okay with having a nerdy girlfriend... Oh, and I guess that\\'s why I\\'m here. Because I want to make you happy. Because I want to make you feel good about yourself. And because I want to show you how to get what you want from me! Now, how do I get that feeling, sweetie?<|endoftext|>\\n<|startoftext|>Based on the erotic game by Umineko no Eoutou.<|endoftext|>\\n<|startoftext|>A year after the environmental catastrophe that was Fukushima, a new threat emerges: a species of invader that seeks to invade and conquer the entire globe. A group of men known as the \"Raccoons\" wage war on the island of Okinawa to seal in the coveted cherry blossom seeds. In'"
     },
     "metadata": {},
     "execution_count": 13
    }
   ],
   "source": [
    "test"
   ]
  },
  {
   "cell_type": "code",
   "execution_count": 14,
   "metadata": {},
   "outputs": [
    {
     "output_type": "execute_result",
     "data": {
      "text/plain": "\"In a world without nerds, I guess that's what I was hoping for. I guess I'm a high school girl with a love for video games. I guess I'm okay with having a nerdy girlfriend... Oh, and I guess that's why I'm here. Because I want to make you happy. Because I want to make you feel good about yourself. And because I want to show you how to get what you want from me! Now, how do I get that feeling, sweetie?\""
     },
     "metadata": {},
     "execution_count": 14
    }
   ],
   "source": [
    "from clean_generations import clean_generated_file\n",
    "clean_generated_file(test)[0]"
   ]
  },
  {
   "cell_type": "code",
   "execution_count": 9,
   "metadata": {},
   "outputs": [],
   "source": [
    "def generate_clean_sample(seed, session=sess, max_len):\n",
    "    gen = generate_from_seed(seed, session=sess, max_len=max_len)\n",
    "    clean = clean_generated_file(gen)\n",
    "    return clean[0]"
   ]
  },
  {
   "cell_type": "code",
   "execution_count": 17,
   "metadata": {},
   "outputs": [
    {
     "output_type": "execute_result",
     "data": {
      "text/plain": "'Some people say that the demon lord is a different beast altogether. There are those who think that the demon lord is nothing more than a demon who came from hell and is waiting for revenge. There are those who think that the demon lord is a descendant of the warrior who was the weakest warrior in the world and is waiting for revenge. There are those who think that the demon lord is a descendant of the warrior who was the strongest warrior in the world, but there are those who think that the demon lord is not of this world at all.'"
     },
     "metadata": {},
     "execution_count": 17
    }
   ],
   "source": [
    "seed = 'Some people say'\n",
    "generate_clean_sample(seed, 200)"
   ]
  },
  {
   "cell_type": "code",
   "execution_count": null,
   "metadata": {},
   "outputs": [],
   "source": []
  }
 ]
}