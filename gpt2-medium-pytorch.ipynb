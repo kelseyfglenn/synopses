{
  "nbformat": 4,
  "nbformat_minor": 0,
  "metadata": {
    "colab": {
      "name": "text_generation.ipynb",
      "provenance": [],
      "collapsed_sections": [],
      "toc_visible": true
    },
    "kernelspec": {
      "name": "python3",
      "display_name": "Python 3"
    },
    "accelerator": "GPU"
  },
  "cells": [
    {
      "source": [
        "## GPT-2 Medium via PyTorch\n",
        "\n",
        "This is the original iteration of the text generation model.\n",
        "\n",
        "This initial version uses PyTorch and the HuggingFace transformers library to manually retrain the GPT-2 Medium model. \n",
        "\n",
        "The model experienced difficulty with overfitting and text quality. After some experimentation, this version was scrapped in favor of the smaller model created through GPT-2 Simple and TensorFlow which proved more efficient to tune and adjust. \n",
        "\n",
        "The notebook was created using Google Colab and borrows heavily from Charles Pierse's [Script Buddy](https://github.com/cdpierse/script_buddy_v2) and Martin Frolov's [Joke Generator](https://gist.github.com/mf1024/3df214d2f17f3dcc56450ddf0d5a4cd7)"
      ],
      "cell_type": "markdown",
      "metadata": {}
    },
    {
      "source": [
        "## Install and Import"
      ],
      "cell_type": "markdown",
      "metadata": {}
    },
    {
      "cell_type": "code",
      "metadata": {
        "id": "qnc3pAru1G_N",
        "colab_type": "code",
        "colab": {
          "base_uri": "https://localhost:8080/",
          "height": 391
        },
        "outputId": "e9f79300-fe8e-4df8-a368-783122fbf326"
      },
      "source": [
        "! pip install transformers \n",
        "! pip install torch"
      ],
      "execution_count": null,
      "outputs": [
        {
          "output_type": "stream",
          "text": [
            "Requirement already satisfied: transformers in /usr/local/lib/python3.6/dist-packages (3.1.0)\n",
            "Requirement already satisfied: dataclasses; python_version < \"3.7\" in /usr/local/lib/python3.6/dist-packages (from transformers) (0.7)\n",
            "Requirement already satisfied: packaging in /usr/local/lib/python3.6/dist-packages (from transformers) (20.4)\n",
            "Requirement already satisfied: requests in /usr/local/lib/python3.6/dist-packages (from transformers) (2.23.0)\n",
            "Requirement already satisfied: numpy in /usr/local/lib/python3.6/dist-packages (from transformers) (1.18.5)\n",
            "Requirement already satisfied: regex!=2019.12.17 in /usr/local/lib/python3.6/dist-packages (from transformers) (2019.12.20)\n",
            "Requirement already satisfied: tqdm>=4.27 in /usr/local/lib/python3.6/dist-packages (from transformers) (4.41.1)\n",
            "Requirement already satisfied: filelock in /usr/local/lib/python3.6/dist-packages (from transformers) (3.0.12)\n",
            "Requirement already satisfied: tokenizers==0.8.1.rc2 in /usr/local/lib/python3.6/dist-packages (from transformers) (0.8.1rc2)\n",
            "Requirement already satisfied: sacremoses in /usr/local/lib/python3.6/dist-packages (from transformers) (0.0.43)\n",
            "Requirement already satisfied: sentencepiece!=0.1.92 in /usr/local/lib/python3.6/dist-packages (from transformers) (0.1.91)\n",
            "Requirement already satisfied: pyparsing>=2.0.2 in /usr/local/lib/python3.6/dist-packages (from packaging->transformers) (2.4.7)\n",
            "Requirement already satisfied: six in /usr/local/lib/python3.6/dist-packages (from packaging->transformers) (1.15.0)\n",
            "Requirement already satisfied: idna<3,>=2.5 in /usr/local/lib/python3.6/dist-packages (from requests->transformers) (2.10)\n",
            "Requirement already satisfied: chardet<4,>=3.0.2 in /usr/local/lib/python3.6/dist-packages (from requests->transformers) (3.0.4)\n",
            "Requirement already satisfied: certifi>=2017.4.17 in /usr/local/lib/python3.6/dist-packages (from requests->transformers) (2020.6.20)\n",
            "Requirement already satisfied: urllib3!=1.25.0,!=1.25.1,<1.26,>=1.21.1 in /usr/local/lib/python3.6/dist-packages (from requests->transformers) (1.24.3)\n",
            "Requirement already satisfied: click in /usr/local/lib/python3.6/dist-packages (from sacremoses->transformers) (7.1.2)\n",
            "Requirement already satisfied: joblib in /usr/local/lib/python3.6/dist-packages (from sacremoses->transformers) (0.16.0)\n",
            "Requirement already satisfied: torch in /usr/local/lib/python3.6/dist-packages (1.6.0+cu101)\n",
            "Requirement already satisfied: future in /usr/local/lib/python3.6/dist-packages (from torch) (0.16.0)\n",
            "Requirement already satisfied: numpy in /usr/local/lib/python3.6/dist-packages (from torch) (1.18.5)\n"
          ],
          "name": "stdout"
        }
      ]
    },
    {
      "cell_type": "code",
      "metadata": {
        "id": "8C58hHjE0MxU",
        "colab_type": "code",
        "colab": {}
      },
      "source": [
        "# GPT and PyTorch\n",
        "import torch\n",
        "from torch.utils.data import Dataset, DataLoader\n",
        "from transformers import GPT2Tokenizer, GPT2LMHeadModel\n",
        "from transformers import AdamW, get_linear_schedule_with_warmup\n",
        "\n",
        "\n",
        "# Logging and Warnings\n",
        "import logging\n",
        "logging.getLogger().setLevel(logging.CRITICAL)\n",
        "import warnings\n",
        "warnings.filterwarnings('ignore')\n",
        "\n",
        "# Data manipulation, Misc.\n",
        "import random\n",
        "import pandas as pd\n",
        "import numpy as np"
      ],
      "execution_count": null,
      "outputs": []
    },
    {
      "source": [
        "## Load Data\n",
        "\n",
        "We load our dataset from Google Drive and create a PyTorch DataLoader class which will handle generating and passing our training batchs. "
      ],
      "cell_type": "markdown",
      "metadata": {}
    },
    {
      "cell_type": "code",
      "metadata": {
        "id": "H3FLU0NG0YJY",
        "colab_type": "code",
        "colab": {}
      },
      "source": [
        "# load in complete dataset, contains several columns\n",
        "anime_df = pd.read_csv('drive/My Drive/Anime.csv')\n",
        "anime_df.rename(str.strip, axis='columns', inplace=True)\n",
        "# reduce to target column of synopsis text\n",
        "synopsis_list = anime_df['synopsis']"
      ],
      "execution_count": null,
      "outputs": []
    },
    {
      "cell_type": "code",
      "metadata": {
        "id": "MEROBbk_7NFA",
        "colab_type": "code",
        "colab": {}
      },
      "source": [
        "# DataLoader pbject which will add start and end of text tokens and batch load our data\n",
        "class SynposisDataset(Dataset):\n",
        "    def __init__(self):\n",
        "        super().__init__()\n",
        "        \n",
        "        data = synopsis_list\n",
        "\n",
        "        self.syn_list = []\n",
        "        self.end_of_text_token = \"<|endoftext|>\"\n",
        "\n",
        "        for idx, synopsis in enumerate(data):\n",
        "            syn_str = f\"{self.end_of_text_token}START:{synopsis}{self.end_of_text_token}\"\n",
        "            # syn_str = f\"{self.end_of_text_token} {synopsis}{self.end_of_text_token}\"\n",
        "            self.syn_list.append(syn_str)\n",
        "            \n",
        "            \n",
        "    def __len__(self):\n",
        "        return len(self.syn_list)\n",
        "\n",
        "    def __getitem__(self, item):\n",
        "        return self.syn_list[item]\n"
      ],
      "execution_count": null,
      "outputs": []
    },
    {
      "cell_type": "code",
      "metadata": {
        "id": "5kCN1P0xQfNE",
        "colab_type": "code",
        "colab": {}
      },
      "source": [
        "# intialize loader and specify batch size\n",
        "dataset = SynposisDataset()\n",
        "synopsis_loader = DataLoader(dataset, batch_size=1, shuffle=True)"
      ],
      "execution_count": null,
      "outputs": []
    },
    {
      "source": [
        "## Prepare GPT-2\n",
        "\n",
        "Here we'll set the parameters and processing settings then load the GPT-2 tokenizer and model."
      ],
      "cell_type": "markdown",
      "metadata": {}
    },
    {
      "cell_type": "code",
      "metadata": {
        "id": "9f5M-oYJrjlI",
        "colab_type": "code",
        "colab": {}
      },
      "source": [
        "\"\"\"\n",
        "Model Settings\n",
        "\"\"\"\n",
        "BATCH_SIZE = 1\n",
        "EPOCHS = 1\n",
        "LEARNING_RATE = 2e-5\n",
        "WARMUP_STEPS = 10000\n",
        "# MAX_SEQ_LEN = 550\n",
        "\n",
        "\n",
        "# Use parallel GPU computation if available\n",
        "device = 'cpu'\n",
        "if torch.cuda.is_available():\n",
        "    device = 'cuda'"
      ],
      "execution_count": null,
      "outputs": []
    },
    {
      "cell_type": "code",
      "metadata": {
        "id": "dbx4a-_N2cFv",
        "colab_type": "code",
        "colab": {}
      },
      "source": [
        "# GPT-specific text tokenizer\n",
        "tokenizer = GPT2Tokenizer.from_pretrained('gpt2-medium')\n",
        "# load GPT-2 medium model\n",
        "model = GPT2LMHeadModel.from_pretrained('gpt2-medium')"
      ],
      "execution_count": null,
      "outputs": []
    },
    {
      "source": [
        "## Model Training\n",
        "\n",
        "Here we repeatedly feed the model batches of training data with itself as the target label -- GPT-2 is training to predict each training sequence one token at a time. \n",
        "\n",
        "We track the loss and output a generated sample every 200 training steps from a random int which serves as the seed token. \n",
        "\n",
        "We experimented with a few implementations of this, but were'nt able to find a satisfactory set of parameters to prevent overfitting while retaining the structure of the target data. The model quickly goes from heavily underfit (producing verbatim pre-training text) to heavily overfit (producing verbatim training data) or produces something closer to the latter but lacking in coherence.\n"
      ],
      "cell_type": "markdown",
      "metadata": {}
    },
    {
      "cell_type": "code",
      "metadata": {
        "id": "11_WXtOVrNK6",
        "colab_type": "code",
        "colab": {
          "base_uri": "https://localhost:8080/",
          "height": 1000
        },
        "outputId": "7205f411-7081-421b-f3be-116df6bf02b7"
      },
      "source": [
        "model = model.to(device)\n",
        "model.train()\n",
        "optimizer = AdamW(model.parameters(), lr=LEARNING_RATE) # gradient descent optimizer\n",
        "scheduler = get_linear_schedule_with_warmup(optimizer, num_warmup_steps=WARMUP_STEPS, num_training_steps=-1) # learning rate scheduler\n",
        "synopsis_count = 0 \n",
        "sum_loss = 0.0\n",
        "batch_count = 0\n",
        "\n",
        "for epoch in range(EPOCHS):\n",
        "    for _ , synopsis in enumerate(synopsis_loader):\n",
        "        # feed data\n",
        "        syn_tens = torch.tensor(tokenizer.encode(synopsis[0])).unsqueeze(0).to(device)\n",
        "        outputs = model(syn_tens, labels=syn_tens)\n",
        "        \n",
        "        # backward pass\n",
        "        loss, logits = outputs[:2]                        \n",
        "        loss.backward()\n",
        "        sum_loss = sum_loss + loss.detach().item()\n",
        "\n",
        "        # adjust weights and zero gradients      \n",
        "        synopsis_count = synopsis_count + 1\n",
        "        if synopsis_count == BATCH_SIZE:\n",
        "            synopsis_count = 0    \n",
        "            batch_count += 1\n",
        "            optimizer.step()\n",
        "            scheduler.step() \n",
        "            optimizer.zero_grad()\n",
        "            model.zero_grad()\n",
        "\n",
        "        # output sample    \n",
        "        if batch_count == 200:\n",
        "            model.eval()\n",
        "\n",
        "            print(f\"sum loss {sum_loss}\")\n",
        "            sample_outputs = model.generate(\n",
        "                                    bos_token_id=random.randint(1,30000),\n",
        "                                    do_sample=True,   \n",
        "                                    top_k=50, \n",
        "                                    max_length = 200,\n",
        "                                    top_p=0.95, \n",
        "                                    num_return_sequences=1\n",
        "                                )\n",
        "\n",
        "            print(\"Output:\\n\" + 100 * '-')\n",
        "            for i, sample_output in enumerate(sample_outputs):\n",
        "                  print(\"{}: {}\".format(i, tokenizer.decode(sample_output, skip_special_tokens=True)))\n",
        "            print(\"\\n\")\n",
        "            \n",
        "            batch_count = 0\n",
        "            sum_loss = 0.0\n",
        "            model.train()"
      ],
      "execution_count": null,
      "outputs": [
        {
          "output_type": "stream",
          "text": [
            "Setting `pad_token_id` to 50256 (first `eos_token_id`) to generate sequence\n"
          ],
          "name": "stderr"
        },
        {
          "output_type": "stream",
          "text": [
            "sum loss 871.0637943744659\n",
            "Output:\n",
            "----------------------------------------------------------------------------------------------------\n",
            "0:  lifesassets.com (http://www.guru.com/) for technical advice and technical support.\n",
            "\n",
            "Please contact me if you have any questions or suggestions.\n",
            "\n",
            "\n"
          ],
          "name": "stdout"
        },
        {
          "output_type": "stream",
          "text": [
            "Setting `pad_token_id` to 50256 (first `eos_token_id`) to generate sequence\n"
          ],
          "name": "stderr"
        },
        {
          "output_type": "stream",
          "text": [
            "sum loss 784.4341342449188\n",
            "Output:\n",
            "----------------------------------------------------------------------------------------------------\n",
            "0:  BST) and the BST-controlled signals (1) and (2) to produce stable (or, equivalently, delayed) signals that can be transferred from source to the detector. We hypothesized that a single pulse at the transmitter's frequency would result in an increase in the signal's magnitude and direction of response.\n",
            "\n",
            "The signal produced by the BST-controlled signal (1) is dependent on the transmitter's rate-response signal as well as the detector's phase, which depends on the transmitter's rate-response system and the direction (or directionality) of the signal's transfer rate from source to detector. Thus, a pulse at a particular rate would cause the signal to be sensitive to a given transmitter frequency and direction. For simplicity, we have used a typical receiver-transmitter synchronous switching system to mimic the BST-controlled signals. The BST-controlled signals are produced using a time-dependent pulse of ≈0.1 s, or 0.\n",
            "\n",
            "\n"
          ],
          "name": "stdout"
        },
        {
          "output_type": "stream",
          "text": [
            "Setting `pad_token_id` to 50256 (first `eos_token_id`) to generate sequence\n"
          ],
          "name": "stderr"
        },
        {
          "output_type": "stream",
          "text": [
            "sum loss 727.2423589229584\n",
            "Output:\n",
            "----------------------------------------------------------------------------------------------------\n",
            "0: igating the history of this game, which we think were very well done. You'll get some fun easter eggs as you play through a series of levels.\n",
            "\n",
            "There are three game modes that can be played – Survival, Survival 2 and Survival 3. In Survival mode, you'll get a chance to hunt for resources. In Survival 2, you'll have to survive in a 3-D environment. In Survival 3, you will have to survive underwater, find a way to survive underwater, and get away from hungry sharks. We know people like to play in the water, so we gave the option to play in Survival 2.\n",
            "\n",
            "We also had a feature that you can choose to play as one of the players. In that mode, there is one player mode and a two player mode.\n",
            "\n",
            "We did have an option to choose either a new game mode or a multiplayer mode. In both of those modes, you start out with a few friends as enemies to beat and as\n",
            "\n",
            "\n"
          ],
          "name": "stdout"
        },
        {
          "output_type": "stream",
          "text": [
            "Setting `pad_token_id` to 50256 (first `eos_token_id`) to generate sequence\n"
          ],
          "name": "stderr"
        },
        {
          "output_type": "stream",
          "text": [
            "sum loss 674.5155599117279\n",
            "Output:\n",
            "----------------------------------------------------------------------------------------------------\n",
            "0: rouSTART [2016-07-12 19:27:52] CLIENT: Got control packet k_EStreamControlSetCursor [2016-07-12 19:27:52] CLIENT: Got control packet k_EStreamControlSetCursorImage [2016-07-12 19:27:54] CLIENT: Got control packet k_EStreamControlHideCursor [2016-07-12 19:27:54] CLIENT: Got control packet k_EStreamControlSetCursor [2016-07-12 19:27:54] CLIENT: Got control packet k_EStreamControlSetCursorImageRepeat [2016-07-12 19:27:54] CLIENT: Got control packet k_EStreamControlSetCursor [2016-07-12 19:27:54] CLIENT: Got control packet k_EStreamControlSetCursorImage [2016-07-12 19:27:54] CLIENT: Got control packet k_EStreamControlSetCursor [\n",
            "\n",
            "\n"
          ],
          "name": "stdout"
        },
        {
          "output_type": "stream",
          "text": [
            "Setting `pad_token_id` to 50256 (first `eos_token_id`) to generate sequence\n"
          ],
          "name": "stderr"
        },
        {
          "output_type": "stream",
          "text": [
            "sum loss 660.0759694576263\n",
            "Output:\n",
            "----------------------------------------------------------------------------------------------------\n",
            "0: inburghST\n",
            "\n",
            "Date of Photography: August 2015\n",
            "\n",
            "Photography: Kasey Kondo\n",
            "\n",
            "Stylist: Yuki Shirobe\n",
            "\n",
            "Stylist: Masayuki Kojima\n",
            "\n",
            "\n"
          ],
          "name": "stdout"
        },
        {
          "output_type": "stream",
          "text": [
            "Setting `pad_token_id` to 50256 (first `eos_token_id`) to generate sequence\n"
          ],
          "name": "stderr"
        },
        {
          "output_type": "stream",
          "text": [
            "sum loss 652.634653173387\n",
            "Output:\n",
            "----------------------------------------------------------------------------------------------------\n",
            "0:  beneST the'sorrowful' people of the world and their moral laws. Their only law is that which is in their power; 'the law of their own power' (Sich), and which the government has been able to take over from the people. These laws of theirs are of course always changed; therefore the idea of them having a soul does not make it a fact: this idea is a myth. The real meaning of laws has always been in the'sense of law' (Zuft). Their real meaning is law from above, law from below, law of the common people. It is not for this reason that an Englishman will see in the 'legal' laws the laws of England and America; this does not mean, however, that the Englishman will see in them the 'legal' laws of Europe, and that the law will be understood that way. Even today, when the idea of laws is regarded as a means, the word 'law'\n",
            "\n",
            "\n"
          ],
          "name": "stdout"
        },
        {
          "output_type": "stream",
          "text": [
            "Setting `pad_token_id` to 50256 (first `eos_token_id`) to generate sequence\n"
          ],
          "name": "stderr"
        },
        {
          "output_type": "stream",
          "text": [
            "sum loss 619.0018020868301\n",
            "Output:\n",
            "----------------------------------------------------------------------------------------------------\n",
            "0:  mankindSTART:00:33.847000 <[CO2] Tordek> ok 2016-10-04 22:08:13.931000 <[OMEGA] Mark Artreides/> @[- T -] Keef Drow and @​everyone it's going to be a good idea to stay back and keep them safe. I'm here for you 2016-10-04 22:08:27.096000 <[OMEGA] Mark Artreides/> if someone tries to hurt you I'm ready to help you 2016-10-04 22:08:29.086000 <Goblin/> is he able to make any other kills this time? 2016-10-04 22:08:44.067000 <[OMEGA] Mark Artreides/> well if he did I couldnt blame him 2016-10-04 22:09:06.934000 <[OMEGA] Mark Artreides/> since he\n",
            "\n",
            "\n"
          ],
          "name": "stdout"
        },
        {
          "output_type": "stream",
          "text": [
            "Setting `pad_token_id` to 50256 (first `eos_token_id`) to generate sequence\n"
          ],
          "name": "stderr"
        },
        {
          "output_type": "stream",
          "text": [
            "sum loss 620.7557123750448\n",
            "Output:\n",
            "----------------------------------------------------------------------------------------------------\n",
            "0:  CommerceSTART:A series of games designed to teach people about the importance of environmental awareness, and how to make real changes to their communities. The series is based on a game called \"The Land Before Time\" by author David Mamet. The series, along with others similar to it, is available online. (Source: Anime News Network)\n",
            "\n",
            "\n"
          ],
          "name": "stdout"
        },
        {
          "output_type": "stream",
          "text": [
            "Setting `pad_token_id` to 50256 (first `eos_token_id`) to generate sequence\n"
          ],
          "name": "stderr"
        },
        {
          "output_type": "stream",
          "text": [
            "sum loss 616.0158964805305\n",
            "Output:\n",
            "----------------------------------------------------------------------------------------------------\n",
            "0:  neighSTART:The song I made with my friends. (Source: ANN)\n",
            "\n",
            "\n"
          ],
          "name": "stdout"
        },
        {
          "output_type": "stream",
          "text": [
            "Setting `pad_token_id` to 50256 (first `eos_token_id`) to generate sequence\n"
          ],
          "name": "stderr"
        },
        {
          "output_type": "stream",
          "text": [
            "sum loss 617.2401395589113\n",
            "Output:\n",
            "----------------------------------------------------------------------------------------------------\n",
            "0:  deSTALKER: Yeah it will be pretty damn hard to take him down. D: That's why it's time to take a day off! B: It's not a thing I could do.\n",
            "\n",
            "\n"
          ],
          "name": "stdout"
        },
        {
          "output_type": "stream",
          "text": [
            "Setting `pad_token_id` to 50256 (first `eos_token_id`) to generate sequence\n"
          ],
          "name": "stderr"
        },
        {
          "output_type": "stream",
          "text": [
            "sum loss 621.1700207665563\n",
            "Output:\n",
            "----------------------------------------------------------------------------------------------------\n",
            "0:  sheepSTART:nan\n",
            "\n",
            "\n"
          ],
          "name": "stdout"
        },
        {
          "output_type": "stream",
          "text": [
            "Setting `pad_token_id` to 50256 (first `eos_token_id`) to generate sequence\n"
          ],
          "name": "stderr"
        },
        {
          "output_type": "stream",
          "text": [
            "sum loss 609.6824617832899\n",
            "Output:\n",
            "----------------------------------------------------------------------------------------------------\n",
            "0: GPSTART=20,STARTUPID=20,STARTUPMAX=7,STARTUPMIN=7,STARTUPLIMIT=10 ) ) ) ), ( k ( xor ( xor ( i0x3e, a0x60 ) ), xor ( i0x3e, a0x60 ), xor ( i0x3e, a0x60 ) ), xor ( i0x3e, a0x60 ) ), xor ( i0x3e, a0x60 ) ), xor ( i0x3e, a0x60 ) ), xor ( i0x3e, a0x60 ), xor ( i0x3e, a0x60 ), xor ( a0x30, a0x90 ), xor ( a0x30, a0x90 ), x\n",
            "\n",
            "\n"
          ],
          "name": "stdout"
        },
        {
          "output_type": "stream",
          "text": [
            "Setting `pad_token_id` to 50256 (first `eos_token_id`) to generate sequence\n"
          ],
          "name": "stderr"
        },
        {
          "output_type": "stream",
          "text": [
            "sum loss 620.1738195121288\n",
            "Output:\n",
            "----------------------------------------------------------------------------------------------------\n",
            "0:  PakistaniSTART:The third volume in the series of novels written by Ichiro Imamura.\n",
            "\n",
            "\n"
          ],
          "name": "stdout"
        },
        {
          "output_type": "stream",
          "text": [
            "Setting `pad_token_id` to 50256 (first `eos_token_id`) to generate sequence\n"
          ],
          "name": "stderr"
        },
        {
          "output_type": "stream",
          "text": [
            "sum loss 616.5891768634319\n",
            "Output:\n",
            "----------------------------------------------------------------------------------------------------\n",
            "0:  philosophySTART:nan\n",
            "\n",
            "\n"
          ],
          "name": "stdout"
        },
        {
          "output_type": "stream",
          "text": [
            "Setting `pad_token_id` to 50256 (first `eos_token_id`) to generate sequence\n"
          ],
          "name": "stderr"
        },
        {
          "output_type": "stream",
          "text": [
            "sum loss 622.2585498541594\n",
            "Output:\n",
            "----------------------------------------------------------------------------------------------------\n",
            "0:  UberSTART, you are paying for the privilege to be in one place and to experience new places. Whether you choose to live in one of the three cities within the festival, or you stay around in L.A., San Francisco and the surrounding area, you are part of the festival family.\n",
            "\n",
            "To begin the festival, enter our unique \"Citizen\" zone and you'll find FREE admission, unlimited drinking water, free food, and lots of entertainment in a world of festivals. Our festival, unlike many other festivals around the globe, does not provide free passes to other city streets in cities you visit. You will have to pay to get to our community, or simply leave the festival area and visit another festival. With no admission ticket required, you can take advantage of our community and enjoy the peace and security of the Festival itself.\n",
            "\n",
            "As each day of the event unfolds, you'll see and experience all that San Francisco has to offer, including many unique experiences, like a\n",
            "\n",
            "\n"
          ],
          "name": "stdout"
        },
        {
          "output_type": "stream",
          "text": [
            "Setting `pad_token_id` to 50256 (first `eos_token_id`) to generate sequence\n"
          ],
          "name": "stderr"
        },
        {
          "output_type": "stream",
          "text": [
            "sum loss 612.2514392286539\n",
            "Output:\n",
            "----------------------------------------------------------------------------------------------------\n",
            "0:  autonomousSTART: The series was originally a one-hour special of the Fuji TV. It has since then been rebroadcast in over 50 countries. Fuji TV, the parent corporation of Fuji Television Network Holdings, produced the series. Since a lot of people don't know that the series aired on NHK-AM (NHK's channel for elementary schools) and the Fuji TV channel in Japan, Fuji TV and NHK created a promotional video to show their confidence in the show as if they really had nothing to lose in re-airing the series for the first time. (Source: ANN)\n",
            "\n",
            "\n"
          ],
          "name": "stdout"
        },
        {
          "output_type": "stream",
          "text": [
            "Setting `pad_token_id` to 50256 (first `eos_token_id`) to generate sequence\n"
          ],
          "name": "stderr"
        },
        {
          "output_type": "stream",
          "text": [
            "sum loss 611.2249992638826\n",
            "Output:\n",
            "----------------------------------------------------------------------------------------------------\n",
            "0:  inputSTART:Animation is a bit more difficult to understand, but the main feature of animation is the ability to animate the movement of a line, or to perform other animation features of the character. (Source: Wikipedia)\n",
            "\n",
            "\n"
          ],
          "name": "stdout"
        },
        {
          "output_type": "stream",
          "text": [
            "Setting `pad_token_id` to 50256 (first `eos_token_id`) to generate sequence\n"
          ],
          "name": "stderr"
        },
        {
          "output_type": "stream",
          "text": [
            "sum loss 594.6889024972916\n",
            "Output:\n",
            "----------------------------------------------------------------------------------------------------\n",
            "0: umenSTART:A small show for children.\n",
            "\n",
            "\n"
          ],
          "name": "stdout"
        },
        {
          "output_type": "stream",
          "text": [
            "Setting `pad_token_id` to 50256 (first `eos_token_id`) to generate sequence\n"
          ],
          "name": "stderr"
        },
        {
          "output_type": "stream",
          "text": [
            "sum loss 602.274370148778\n",
            "Output:\n",
            "----------------------------------------------------------------------------------------------------\n",
            "0:  TelegraphSTART:A Japanese commercial for a mobile phone game, which was being screened in theaters.\n",
            "\n",
            "\n"
          ],
          "name": "stdout"
        },
        {
          "output_type": "stream",
          "text": [
            "Setting `pad_token_id` to 50256 (first `eos_token_id`) to generate sequence\n"
          ],
          "name": "stderr"
        },
        {
          "output_type": "stream",
          "text": [
            "sum loss 597.2016659155488\n",
            "Output:\n",
            "----------------------------------------------------------------------------------------------------\n",
            "0:  JoyceSTART:nan\n",
            "\n",
            "\n"
          ],
          "name": "stdout"
        },
        {
          "output_type": "stream",
          "text": [
            "Setting `pad_token_id` to 50256 (first `eos_token_id`) to generate sequence\n"
          ],
          "name": "stderr"
        },
        {
          "output_type": "stream",
          "text": [
            "sum loss 580.2591632902622\n",
            "Output:\n",
            "----------------------------------------------------------------------------------------------------\n",
            "0:  routinelySTART:The first season of the OVA series, it chronicles the life of a boy named Kano who goes through many problems and changes. At the beginning of it he has a job that he does not approve of and he goes to a very shady place and meets an attractive young lady who he likes. He starts the series as Kano was bullied for his appearance. He becomes friends with the beautiful and charismatic Tatsumi who is his best friend at the time.\n",
            "\n",
            "\n"
          ],
          "name": "stdout"
        },
        {
          "output_type": "stream",
          "text": [
            "Setting `pad_token_id` to 50256 (first `eos_token_id`) to generate sequence\n"
          ],
          "name": "stderr"
        },
        {
          "output_type": "stream",
          "text": [
            "sum loss 607.2283259779215\n",
            "Output:\n",
            "----------------------------------------------------------------------------------------------------\n",
            "0:  <=START:Based on the Japanese manga by Tetsuya Natsumi.\n",
            "\n",
            "\n"
          ],
          "name": "stdout"
        },
        {
          "output_type": "stream",
          "text": [
            "Setting `pad_token_id` to 50256 (first `eos_token_id`) to generate sequence\n"
          ],
          "name": "stderr"
        },
        {
          "output_type": "stream",
          "text": [
            "sum loss 583.4188327789307\n",
            "Output:\n",
            "----------------------------------------------------------------------------------------------------\n",
            "0:  NaziSTART.\n",
            "\n",
            "\n"
          ],
          "name": "stdout"
        },
        {
          "output_type": "stream",
          "text": [
            "Setting `pad_token_id` to 50256 (first `eos_token_id`) to generate sequence\n"
          ],
          "name": "stderr"
        },
        {
          "output_type": "stream",
          "text": [
            "sum loss 585.4165814220905\n",
            "Output:\n",
            "----------------------------------------------------------------------------------------------------\n",
            "0: imeterSTART:A special broadcast for the first season of Nendoroid Oricon's Nendoroid Shion.\n",
            "\n",
            "\n"
          ],
          "name": "stdout"
        },
        {
          "output_type": "stream",
          "text": [
            "Setting `pad_token_id` to 50256 (first `eos_token_id`) to generate sequence\n"
          ],
          "name": "stderr"
        },
        {
          "output_type": "stream",
          "text": [
            "sum loss 598.1462305486202\n",
            "Output:\n",
            "----------------------------------------------------------------------------------------------------\n",
            "0:  650STi is just a tad thicker than the V.E.N.N. (Vacuums & Nerds). With a V.E.N.N. (Vacuums & Nerds) the material was just a little less thick. That was an attempt to keep the weight less than V.E.N.N. (Vacuums & Nerds). That being said, this is a very heavy blaster.\n",
            "\n",
            "\n"
          ],
          "name": "stdout"
        },
        {
          "output_type": "stream",
          "text": [
            "Setting `pad_token_id` to 50256 (first `eos_token_id`) to generate sequence\n"
          ],
          "name": "stderr"
        },
        {
          "output_type": "stream",
          "text": [
            "sum loss 608.2988520860672\n",
            "Output:\n",
            "----------------------------------------------------------------------------------------------------\n",
            "0: ductSTART:Official music video for the song \"Ryojo's Dream\" by the band NAKAMO, which was included on the album of the same name.\n",
            "\n",
            "\n"
          ],
          "name": "stdout"
        },
        {
          "output_type": "stream",
          "text": [
            "Setting `pad_token_id` to 50256 (first `eos_token_id`) to generate sequence\n"
          ],
          "name": "stderr"
        },
        {
          "output_type": "stream",
          "text": [
            "sum loss 583.7403800264001\n",
            "Output:\n",
            "----------------------------------------------------------------------------------------------------\n",
            "0:  roommSTART:nan\n",
            "\n",
            "\n"
          ],
          "name": "stdout"
        },
        {
          "output_type": "stream",
          "text": [
            "Setting `pad_token_id` to 50256 (first `eos_token_id`) to generate sequence\n"
          ],
          "name": "stderr"
        },
        {
          "output_type": "stream",
          "text": [
            "sum loss 583.9661989361048\n",
            "Output:\n",
            "----------------------------------------------------------------------------------------------------\n",
            "0:  ClickSTART:This short film features beautiful and unique creatures.\n",
            "\n",
            "\n"
          ],
          "name": "stdout"
        },
        {
          "output_type": "stream",
          "text": [
            "Setting `pad_token_id` to 50256 (first `eos_token_id`) to generate sequence\n"
          ],
          "name": "stderr"
        },
        {
          "output_type": "stream",
          "text": [
            "sum loss 598.860584884882\n",
            "Output:\n",
            "----------------------------------------------------------------------------------------------------\n",
            "0:  FosterSTART_Music video for the song \"Giant Wave\".\n",
            "\n",
            "\n"
          ],
          "name": "stdout"
        },
        {
          "output_type": "stream",
          "text": [
            "Setting `pad_token_id` to 50256 (first `eos_token_id`) to generate sequence\n"
          ],
          "name": "stderr"
        },
        {
          "output_type": "stream",
          "text": [
            "sum loss 571.3428980186582\n",
            "Output:\n",
            "----------------------------------------------------------------------------------------------------\n",
            "0:  ByrST:MST. The movie was made with the same budget as the TV series and also had a new director.\n",
            "\n",
            "\n"
          ],
          "name": "stdout"
        },
        {
          "output_type": "stream",
          "text": [
            "Setting `pad_token_id` to 50256 (first `eos_token_id`) to generate sequence\n"
          ],
          "name": "stderr"
        },
        {
          "output_type": "stream",
          "text": [
            "sum loss 590.6661973819137\n",
            "Output:\n",
            "----------------------------------------------------------------------------------------------------\n",
            "0: umiSTV:Takashi Nagisa and Minami Takagi discuss their love for their lives from a young age.\n",
            "\n",
            "\n"
          ],
          "name": "stdout"
        },
        {
          "output_type": "stream",
          "text": [
            "Setting `pad_token_id` to 50256 (first `eos_token_id`) to generate sequence\n"
          ],
          "name": "stderr"
        },
        {
          "output_type": "stream",
          "text": [
            "sum loss 579.5797613710165\n",
            "Output:\n",
            "----------------------------------------------------------------------------------------------------\n",
            "0:  insultsSTART:nan\n",
            "\n",
            "\n"
          ],
          "name": "stdout"
        },
        {
          "output_type": "stream",
          "text": [
            "Setting `pad_token_id` to 50256 (first `eos_token_id`) to generate sequence\n"
          ],
          "name": "stderr"
        },
        {
          "output_type": "stream",
          "text": [
            "sum loss 595.8268054127693\n",
            "Output:\n",
            "----------------------------------------------------------------------------------------------------\n",
            "0:  CrusSTART:Original TV anime produced by A-1 Pictures and streamed on MAL.\n",
            "\n",
            "\n"
          ],
          "name": "stdout"
        },
        {
          "output_type": "stream",
          "text": [
            "Setting `pad_token_id` to 50256 (first `eos_token_id`) to generate sequence\n"
          ],
          "name": "stderr"
        },
        {
          "output_type": "stream",
          "text": [
            "sum loss 595.2707849368453\n",
            "Output:\n",
            "----------------------------------------------------------------------------------------------------\n",
            "0:  voiceSTART:nan\n",
            "\n",
            "\n"
          ],
          "name": "stdout"
        },
        {
          "output_type": "stream",
          "text": [
            "Setting `pad_token_id` to 50256 (first `eos_token_id`) to generate sequence\n"
          ],
          "name": "stderr"
        },
        {
          "output_type": "stream",
          "text": [
            "sum loss 608.873073771596\n",
            "Output:\n",
            "----------------------------------------------------------------------------------------------------\n",
            "0: aturalSTART:A parody of the original and the third film.\n",
            "\n",
            "\n"
          ],
          "name": "stdout"
        },
        {
          "output_type": "stream",
          "text": [
            "Setting `pad_token_id` to 50256 (first `eos_token_id`) to generate sequence\n"
          ],
          "name": "stderr"
        },
        {
          "output_type": "stream",
          "text": [
            "sum loss 583.5073809623718\n",
            "Output:\n",
            "----------------------------------------------------------------------------------------------------\n",
            "0:  campaignSTART:Second season of the Doraemon franchise.\n",
            "\n",
            "\n"
          ],
          "name": "stdout"
        },
        {
          "output_type": "stream",
          "text": [
            "Setting `pad_token_id` to 50256 (first `eos_token_id`) to generate sequence\n"
          ],
          "name": "stderr"
        },
        {
          "output_type": "stream",
          "text": [
            "sum loss 599.4362603798509\n",
            "Output:\n",
            "----------------------------------------------------------------------------------------------------\n",
            "0: robSTART:nan\n",
            "\n",
            "\n"
          ],
          "name": "stdout"
        },
        {
          "output_type": "stream",
          "text": [
            "Setting `pad_token_id` to 50256 (first `eos_token_id`) to generate sequence\n"
          ],
          "name": "stderr"
        },
        {
          "output_type": "stream",
          "text": [
            "sum loss 601.8546432852745\n",
            "Output:\n",
            "----------------------------------------------------------------------------------------------------\n",
            "0: piresSTART:nan\n",
            "\n",
            "\n"
          ],
          "name": "stdout"
        },
        {
          "output_type": "stream",
          "text": [
            "Setting `pad_token_id` to 50256 (first `eos_token_id`) to generate sequence\n"
          ],
          "name": "stderr"
        },
        {
          "output_type": "stream",
          "text": [
            "sum loss 582.1108804792166\n",
            "Output:\n",
            "----------------------------------------------------------------------------------------------------\n",
            "0: posureSTART:nan\n",
            "\n",
            "\n"
          ],
          "name": "stdout"
        },
        {
          "output_type": "stream",
          "text": [
            "Setting `pad_token_id` to 50256 (first `eos_token_id`) to generate sequence\n"
          ],
          "name": "stderr"
        },
        {
          "output_type": "stream",
          "text": [
            "sum loss 596.1287164986134\n",
            "Output:\n",
            "----------------------------------------------------------------------------------------------------\n",
            "0: cedesSTART:Music video for the band's song \"Black Hole\" featuring the song's lyrics by Saki Miyuki.\n",
            "\n",
            "\n"
          ],
          "name": "stdout"
        },
        {
          "output_type": "stream",
          "text": [
            "Setting `pad_token_id` to 50256 (first `eos_token_id`) to generate sequence\n"
          ],
          "name": "stderr"
        },
        {
          "output_type": "stream",
          "text": [
            "sum loss 598.8383952230215\n",
            "Output:\n",
            "----------------------------------------------------------------------------------------------------\n",
            "0:  HardySTART:A special of shorts.\n",
            "\n",
            "\n"
          ],
          "name": "stdout"
        },
        {
          "output_type": "stream",
          "text": [
            "Setting `pad_token_id` to 50256 (first `eos_token_id`) to generate sequence\n"
          ],
          "name": "stderr"
        },
        {
          "output_type": "stream",
          "text": [
            "sum loss 569.1702791154385\n",
            "Output:\n",
            "----------------------------------------------------------------------------------------------------\n",
            "0:  firmSTART:A video by Kenzo Nakayama of an animated opening for the Ojou no Asobi project. The video features the characters from Ojou to Nannokigurashi.\n",
            "\n",
            "\n"
          ],
          "name": "stdout"
        },
        {
          "output_type": "stream",
          "text": [
            "Setting `pad_token_id` to 50256 (first `eos_token_id`) to generate sequence\n"
          ],
          "name": "stderr"
        },
        {
          "output_type": "stream",
          "text": [
            "sum loss 598.3199090212584\n",
            "Output:\n",
            "----------------------------------------------------------------------------------------------------\n",
            "0:  discountedSTART:nan\n",
            "\n",
            "\n"
          ],
          "name": "stdout"
        },
        {
          "output_type": "stream",
          "text": [
            "Setting `pad_token_id` to 50256 (first `eos_token_id`) to generate sequence\n"
          ],
          "name": "stderr"
        },
        {
          "output_type": "stream",
          "text": [
            "sum loss 578.1121428757906\n",
            "Output:\n",
            "----------------------------------------------------------------------------------------------------\n",
            "0:  SESTART:nan\n",
            "\n",
            "\n"
          ],
          "name": "stdout"
        },
        {
          "output_type": "stream",
          "text": [
            "Setting `pad_token_id` to 50256 (first `eos_token_id`) to generate sequence\n"
          ],
          "name": "stderr"
        },
        {
          "output_type": "stream",
          "text": [
            "sum loss 592.8379936143756\n",
            "Output:\n",
            "----------------------------------------------------------------------------------------------------\n",
            "0:  draggedSTART:Recap of OVA.\n",
            "\n",
            "\n"
          ],
          "name": "stdout"
        },
        {
          "output_type": "stream",
          "text": [
            "Setting `pad_token_id` to 50256 (first `eos_token_id`) to generate sequence\n"
          ],
          "name": "stderr"
        },
        {
          "output_type": "stream",
          "text": [
            "sum loss 597.4785238802433\n",
            "Output:\n",
            "----------------------------------------------------------------------------------------------------\n",
            "0:  femSTART:Short commercials for a Japanese cosmetics brand.\n",
            "\n",
            "\n"
          ],
          "name": "stdout"
        },
        {
          "output_type": "stream",
          "text": [
            "Setting `pad_token_id` to 50256 (first `eos_token_id`) to generate sequence\n"
          ],
          "name": "stderr"
        },
        {
          "output_type": "stream",
          "text": [
            "sum loss 583.8271905183792\n",
            "Output:\n",
            "----------------------------------------------------------------------------------------------------\n",
            "0:  levelSTART:nan\n",
            "\n",
            "\n"
          ],
          "name": "stdout"
        },
        {
          "output_type": "stream",
          "text": [
            "Setting `pad_token_id` to 50256 (first `eos_token_id`) to generate sequence\n"
          ],
          "name": "stderr"
        },
        {
          "output_type": "stream",
          "text": [
            "sum loss 579.1906317472458\n",
            "Output:\n",
            "----------------------------------------------------------------------------------------------------\n",
            "0: 006START:nan\n",
            "\n",
            "\n"
          ],
          "name": "stdout"
        },
        {
          "output_type": "stream",
          "text": [
            "Setting `pad_token_id` to 50256 (first `eos_token_id`) to generate sequence\n"
          ],
          "name": "stderr"
        },
        {
          "output_type": "stream",
          "text": [
            "sum loss 593.0402456372976\n",
            "Output:\n",
            "----------------------------------------------------------------------------------------------------\n",
            "0:  yourselvesSTART:Based on the Japanese folktale by Yoshinori Ito.\n",
            "\n",
            "\n"
          ],
          "name": "stdout"
        },
        {
          "output_type": "stream",
          "text": [
            "Setting `pad_token_id` to 50256 (first `eos_token_id`) to generate sequence\n"
          ],
          "name": "stderr"
        },
        {
          "output_type": "stream",
          "text": [
            "sum loss 593.8653570264578\n",
            "Output:\n",
            "----------------------------------------------------------------------------------------------------\n",
            "0: irdSTART:The second season of the TV series.\n",
            "\n",
            "\n"
          ],
          "name": "stdout"
        },
        {
          "output_type": "stream",
          "text": [
            "Setting `pad_token_id` to 50256 (first `eos_token_id`) to generate sequence\n"
          ],
          "name": "stderr"
        },
        {
          "output_type": "stream",
          "text": [
            "sum loss 571.7642220258713\n",
            "Output:\n",
            "----------------------------------------------------------------------------------------------------\n",
            "0:  FSSTART:Bundled with the fourth volume of the Shinsou Bunshou manga. The story begins when Toujou Kamui is at home. The young man is having trouble keeping himself awake, but he doesn't get up till he sees the young priest. The priest gives him a ring he bought from him, and tells him he has come to see him at the shrine. It turns out that, as a priest, Kamui will protect the soul of an old woman during his service to the people. (Source: ANN)\n",
            "\n",
            "\n"
          ],
          "name": "stdout"
        },
        {
          "output_type": "stream",
          "text": [
            "Setting `pad_token_id` to 50256 (first `eos_token_id`) to generate sequence\n"
          ],
          "name": "stderr"
        },
        {
          "output_type": "stream",
          "text": [
            "sum loss 592.9331722855568\n",
            "Output:\n",
            "----------------------------------------------------------------------------------------------------\n",
            "0:  raiseSTART:An OVA, short stories by Fujiko Fujiko. (Source: ANN)\n",
            "\n",
            "\n"
          ],
          "name": "stdout"
        },
        {
          "output_type": "stream",
          "text": [
            "Setting `pad_token_id` to 50256 (first `eos_token_id`) to generate sequence\n"
          ],
          "name": "stderr"
        },
        {
          "output_type": "stream",
          "text": [
            "sum loss 593.8594196885824\n",
            "Output:\n",
            "----------------------------------------------------------------------------------------------------\n",
            "0:  couldnSTART:The story follows a young boy named J.L. (Jack) who is not only a good student, but a great baseball player. At the peak of his ability is when he joins the team. One day, there is a sudden incident that results in a collision that leads to the death of all the players. Upon their final death, Jack decides to live out his life a life in which baseball is not played. [Written by MAL Rewrite]\n",
            "\n",
            "\n"
          ],
          "name": "stdout"
        },
        {
          "output_type": "stream",
          "text": [
            "Setting `pad_token_id` to 50256 (first `eos_token_id`) to generate sequence\n"
          ],
          "name": "stderr"
        },
        {
          "output_type": "stream",
          "text": [
            "sum loss 581.2291741669178\n",
            "Output:\n",
            "----------------------------------------------------------------------------------------------------\n",
            "0: itleSTART:Anime short episodes made by the producers of the animated television series.\n",
            "\n",
            "\n"
          ],
          "name": "stdout"
        },
        {
          "output_type": "stream",
          "text": [
            "Setting `pad_token_id` to 50256 (first `eos_token_id`) to generate sequence\n"
          ],
          "name": "stderr"
        },
        {
          "output_type": "stream",
          "text": [
            "sum loss 579.9746538102627\n",
            "Output:\n",
            "----------------------------------------------------------------------------------------------------\n",
            "0:  UrbanSTART:nan\n",
            "\n",
            "\n"
          ],
          "name": "stdout"
        },
        {
          "output_type": "stream",
          "text": [
            "Setting `pad_token_id` to 50256 (first `eos_token_id`) to generate sequence\n"
          ],
          "name": "stderr"
        },
        {
          "output_type": "stream",
          "text": [
            "sum loss 595.2402195036411\n",
            "Output:\n",
            "----------------------------------------------------------------------------------------------------\n",
            "0:  SalSTART:The story follows the journey of the boys during their annual summer vacation. The story focuses on Shouten and Nodame Cantabile, two young boys who meet up with a friend who has just returned from a festival, and become friends with their classmate, Tou. Their summer vacation comes to an abrupt and painful end when Tou and his friends are attacked by bandits, but during their escape they are intercepted by the police.\n",
            "\n",
            "\n"
          ],
          "name": "stdout"
        },
        {
          "output_type": "stream",
          "text": [
            "Setting `pad_token_id` to 50256 (first `eos_token_id`) to generate sequence\n"
          ],
          "name": "stderr"
        },
        {
          "output_type": "stream",
          "text": [
            "sum loss 590.0627728104591\n",
            "Output:\n",
            "----------------------------------------------------------------------------------------------------\n",
            "0:  NavSTART:nan\n",
            "\n",
            "\n"
          ],
          "name": "stdout"
        },
        {
          "output_type": "stream",
          "text": [
            "Setting `pad_token_id` to 50256 (first `eos_token_id`) to generate sequence\n"
          ],
          "name": "stderr"
        },
        {
          "output_type": "stream",
          "text": [
            "sum loss 597.6758636534214\n",
            "Output:\n",
            "----------------------------------------------------------------------------------------------------\n",
            "0:  80STS-V are on sale, with limited editions and specials. The V-Stroke Special is a 5-minute compilation movie of the MV with some new scenes added on to it. The V-Stroke Short Film Film is a 3-minute compilation film of the MV featuring many of the V-Stroke characters. The V-Stroke short film features the \"Yuki Yuki\" music track included in the V-Stroke BD volume 3.\n",
            "\n",
            "\n"
          ],
          "name": "stdout"
        },
        {
          "output_type": "stream",
          "text": [
            "Setting `pad_token_id` to 50256 (first `eos_token_id`) to generate sequence\n"
          ],
          "name": "stderr"
        },
        {
          "output_type": "stream",
          "text": [
            "sum loss 599.0133697390556\n",
            "Output:\n",
            "----------------------------------------------------------------------------------------------------\n",
            "0: esqueSTART:Based on the adult game by Team Ninja. (Source: ANN)\n",
            "\n",
            "\n"
          ],
          "name": "stdout"
        },
        {
          "output_type": "stream",
          "text": [
            "Setting `pad_token_id` to 50256 (first `eos_token_id`) to generate sequence\n"
          ],
          "name": "stderr"
        },
        {
          "output_type": "stream",
          "text": [
            "sum loss 578.0386928319931\n",
            "Output:\n",
            "----------------------------------------------------------------------------------------------------\n",
            "0: zzleSTART:A spin-off animated video for the manga. (Source: AniDB)\n",
            "\n",
            "\n"
          ],
          "name": "stdout"
        },
        {
          "output_type": "stream",
          "text": [
            "Setting `pad_token_id` to 50256 (first `eos_token_id`) to generate sequence\n"
          ],
          "name": "stderr"
        },
        {
          "output_type": "stream",
          "text": [
            "sum loss 589.8824616074562\n",
            "Output:\n",
            "----------------------------------------------------------------------------------------------------\n",
            "0: inatorySTART:Three episodes of Mushi no Uta.\n",
            "\n",
            "\n"
          ],
          "name": "stdout"
        },
        {
          "output_type": "stream",
          "text": [
            "Setting `pad_token_id` to 50256 (first `eos_token_id`) to generate sequence\n"
          ],
          "name": "stderr"
        },
        {
          "output_type": "stream",
          "text": [
            "sum loss 583.9247807264328\n",
            "Output:\n",
            "----------------------------------------------------------------------------------------------------\n",
            "0:  clothSTART:A recap of the first season.\n",
            "\n",
            "\n"
          ],
          "name": "stdout"
        },
        {
          "output_type": "stream",
          "text": [
            "Setting `pad_token_id` to 50256 (first `eos_token_id`) to generate sequence\n"
          ],
          "name": "stderr"
        },
        {
          "output_type": "stream",
          "text": [
            "sum loss 595.9695210456848\n",
            "Output:\n",
            "----------------------------------------------------------------------------------------------------\n",
            "0:  FieldsSTART:The first time he met the cat, Yuji is a clumsy but gentle young boy who spends his days thinking about his past, when he was a child. Yuji finds himself attracted to a certain girl and, after she offers to introduce himself to Yuji, they start a lively love match. But when a certain night turns into a nightmare, Yuji is struck by a terrible nightmare, and loses all memories of childhood. This event leads him to witness an encounter between the beautiful woman and a devil, and to discover her plans to murder the cat. In the course of a night of strange occurrences, Yuji encounters the mysterious cat, the lovely woman, and the strange cat's friends in this world of magic, horror, and dreams. (Source: AnimeNfo)\n",
            "\n",
            "\n"
          ],
          "name": "stdout"
        },
        {
          "output_type": "stream",
          "text": [
            "Setting `pad_token_id` to 50256 (first `eos_token_id`) to generate sequence\n"
          ],
          "name": "stderr"
        },
        {
          "output_type": "stream",
          "text": [
            "sum loss 596.8865304887295\n",
            "Output:\n",
            "----------------------------------------------------------------------------------------------------\n",
            "0:  BestSTART:The story of Mahoutsukai Prince takes place within the Mahoutsukai Kingdom. The kingdom of Mahoutsukai is a magical land which features three kingdoms with unique rules for governing the realm: the first kingdom is ruled by the High Court, which is composed of the Three Great Temples; the second kingdom is ruled by the Seven High Temples, which are composed of the Four Great Temples; and the third kingdom, known as the \"Seven Seas,\" is ruled by the Ten Great Temples that were created within the High Court. Mahoutsukai's High Court is divided into the Seven Great Temples, Seven Seas, Ten Great Temples, and the Seven Kingdoms. (Source: Wikipedia)\n",
            "\n",
            "\n"
          ],
          "name": "stdout"
        },
        {
          "output_type": "stream",
          "text": [
            "Setting `pad_token_id` to 50256 (first `eos_token_id`) to generate sequence\n"
          ],
          "name": "stderr"
        },
        {
          "output_type": "stream",
          "text": [
            "sum loss 571.876079916954\n",
            "Output:\n",
            "----------------------------------------------------------------------------------------------------\n",
            "0: gameSTART:The world is under a siege by aliens known as the Vy's. Each Vy comes with its own special fighting skill, and there are several Vy, called \"Walls,\" which are sealed off by the walls. The enemy forces are now divided into three groups: the \"Warriors,\" led by a handsome girl, who calls herself \"Dancer,\" the \"Masters,\" led by a fierce dog with a sharp blade called \"Bull,\" and the \"Vy-Men,\" led by the \"Dancer/Bull\" and the \"Bull/Masters.\" It looks like they've got a great battle ahead of them, but there is more to it than meets the eye. (Source: ANN)\n",
            "\n",
            "\n"
          ],
          "name": "stdout"
        },
        {
          "output_type": "stream",
          "text": [
            "Setting `pad_token_id` to 50256 (first `eos_token_id`) to generate sequence\n"
          ],
          "name": "stderr"
        },
        {
          "output_type": "stream",
          "text": [
            "sum loss 588.1222303509712\n",
            "Output:\n",
            "----------------------------------------------------------------------------------------------------\n",
            "0: coonSTART:An animated puppet series based on the adult game by H.P. Lovecraft.\n",
            "\n",
            "\n"
          ],
          "name": "stdout"
        },
        {
          "output_type": "stream",
          "text": [
            "Setting `pad_token_id` to 50256 (first `eos_token_id`) to generate sequence\n"
          ],
          "name": "stderr"
        },
        {
          "output_type": "stream",
          "text": [
            "sum loss 603.4369823932648\n",
            "Output:\n",
            "----------------------------------------------------------------------------------------------------\n",
            "0: igrantsSTART:This is one of the many dramas that were given the name of \"Nekogami\" after being produced by A-1 Pictures. They cover various various events that occur in the city. As per an original gag, a young boy has a strange dream where a girl turns into a bear which causes havoc with the city. (Source: AniDB)\n",
            "\n",
            "\n"
          ],
          "name": "stdout"
        },
        {
          "output_type": "stream",
          "text": [
            "Setting `pad_token_id` to 50256 (first `eos_token_id`) to generate sequence\n"
          ],
          "name": "stderr"
        },
        {
          "output_type": "stream",
          "text": [
            "sum loss 564.5568428635597\n",
            "Output:\n",
            "----------------------------------------------------------------------------------------------------\n",
            "0:  prospectiveSTART:The series is about two boys living their lives. In the first season, they are young middle school students. The second season of the series, they are the first high schoolers of their class. They have to start college in order to become eligible to participate in the prestigious Akiba University entrance exams. After the girls have been preparing for the exams by reading books and watching the anime's video and live-action specials, their father and elder sister decide to take a vacation together. With the help of one of their friends, the two decide to stay together for one more year before enrolling in the Akiba University entrance exams. And at the same time, there is a new student in the high school, Jin, who suddenly enrolls in the school.\n",
            "\n",
            "\n"
          ],
          "name": "stdout"
        },
        {
          "output_type": "stream",
          "text": [
            "Setting `pad_token_id` to 50256 (first `eos_token_id`) to generate sequence\n"
          ],
          "name": "stderr"
        },
        {
          "output_type": "stream",
          "text": [
            "sum loss 582.7120960652828\n",
            "Output:\n",
            "----------------------------------------------------------------------------------------------------\n",
            "0:  BengalsSTART:An educational film about the safety of riding a motorcycle in Japan.\n",
            "\n",
            "\n"
          ],
          "name": "stdout"
        },
        {
          "output_type": "stream",
          "text": [
            "Setting `pad_token_id` to 50256 (first `eos_token_id`) to generate sequence\n"
          ],
          "name": "stderr"
        },
        {
          "output_type": "stream",
          "text": [
            "sum loss 583.1691820025444\n",
            "Output:\n",
            "----------------------------------------------------------------------------------------------------\n",
            "0: alSTART:nan\n",
            "\n",
            "\n"
          ],
          "name": "stdout"
        },
        {
          "output_type": "stream",
          "text": [
            "Setting `pad_token_id` to 50256 (first `eos_token_id`) to generate sequence\n"
          ],
          "name": "stderr"
        },
        {
          "output_type": "stream",
          "text": [
            "sum loss 588.143252402544\n",
            "Output:\n",
            "----------------------------------------------------------------------------------------------------\n",
            "0:  employeesSTART:nan\n",
            "\n",
            "\n"
          ],
          "name": "stdout"
        },
        {
          "output_type": "stream",
          "text": [
            "Setting `pad_token_id` to 50256 (first `eos_token_id`) to generate sequence\n"
          ],
          "name": "stderr"
        },
        {
          "output_type": "stream",
          "text": [
            "sum loss 583.6079119443893\n",
            "Output:\n",
            "----------------------------------------------------------------------------------------------------\n",
            "0: izationalSTART:A continuation of the franchise in which the main characters work as teachers at a school in Tokyo.\n",
            "\n",
            "\n"
          ],
          "name": "stdout"
        },
        {
          "output_type": "stream",
          "text": [
            "Setting `pad_token_id` to 50256 (first `eos_token_id`) to generate sequence\n"
          ],
          "name": "stderr"
        },
        {
          "output_type": "stream",
          "text": [
            "sum loss 594.2832368910313\n",
            "Output:\n",
            "----------------------------------------------------------------------------------------------------\n",
            "0:  mereSTART:Based on the adult game by Asobi Entertainment. (Source: AniDB)\n",
            "\n",
            "\n"
          ],
          "name": "stdout"
        },
        {
          "output_type": "stream",
          "text": [
            "Setting `pad_token_id` to 50256 (first `eos_token_id`) to generate sequence\n"
          ],
          "name": "stderr"
        },
        {
          "output_type": "stream",
          "text": [
            "sum loss 587.9781355261803\n",
            "Output:\n",
            "----------------------------------------------------------------------------------------------------\n",
            "0:  AoST-exclusive special included with the second volume of the Blu-ray/DVD.\n",
            "\n",
            "\n"
          ],
          "name": "stdout"
        },
        {
          "output_type": "stream",
          "text": [
            "Setting `pad_token_id` to 50256 (first `eos_token_id`) to generate sequence\n"
          ],
          "name": "stderr"
        },
        {
          "output_type": "stream",
          "text": [
            "sum loss 584.6002468168736\n",
            "Output:\n",
            "----------------------------------------------------------------------------------------------------\n",
            "0:  RocketsSTART:Short animation by Yonezawa Tadanari.\n",
            "\n",
            "\n"
          ],
          "name": "stdout"
        },
        {
          "output_type": "stream",
          "text": [
            "Setting `pad_token_id` to 50256 (first `eos_token_id`) to generate sequence\n"
          ],
          "name": "stderr"
        },
        {
          "output_type": "stream",
          "text": [
            "sum loss 595.24416705966\n",
            "Output:\n",
            "----------------------------------------------------------------------------------------------------\n",
            "0:  AnimalsSTART:This is the story about the creation of a human family by the children of a farmer. (Source: AniDB)\n",
            "\n",
            "\n"
          ],
          "name": "stdout"
        }
      ]
    },
    {
      "cell_type": "code",
      "metadata": {
        "id": "VjHjIQWk_ya6",
        "colab_type": "code",
        "colab": {}
      },
      "source": [
        "# save model\n",
        "torch.save(model.state_dict(), 'drive/My Drive/ML Models/syn_gen_3_epoch.pth')"
      ],
      "execution_count": null,
      "outputs": []
    },
    {
      "source": [
        "## Generator Functions\n",
        "\n",
        "Cribbed from Martin Frolov -- unused since training samples never reached a satisfactory state"
      ],
      "cell_type": "markdown",
      "metadata": {}
    },
    {
      "cell_type": "code",
      "metadata": {
        "id": "c98-irWh4RhY",
        "colab_type": "code",
        "colab": {}
      },
      "source": [
        "# Function to first select topN tokens from the probability list and then based on the N word distribution\n",
        "# select random token ID\n",
        "def choose_from_top(probs, n=5):\n",
        "    ind = np.argpartition(probs, -n)[-n:]\n",
        "    top_prob = probs[ind]\n",
        "    top_prob = top_prob / np.sum(top_prob) # Normalize\n",
        "    choice = np.random.choice(n, 1, p = top_prob)\n",
        "    token_id = ind[choice][0]\n",
        "    return int(token_id)"
      ],
      "execution_count": null,
      "outputs": []
    },
    {
      "cell_type": "code",
      "metadata": {
        "id": "9ZyU_KFa65D0",
        "colab_type": "code",
        "colab": {}
      },
      "source": [
        "# tensor of tokenized ids\n",
        "cur_ids = torch.tensor(tokenizer.encode(randanime)).unsqueeze(0).long().to(device)\n",
        "\n",
        "model.eval() # sets model to eval mode \n",
        "with torch.no_grad(): # gradients? stop autograd from tracking history on tensors\n",
        "    \n",
        "    for i in range(250):\n",
        "        outputs = model(cur_ids, labels=cur_ids) # instantiate GPT2LMHeadModel with our sample text\n",
        "        loss, logits = outputs[:2] # track the loss and logit outputs\n",
        "        softmax_logits = torch.softmax(logits[0,-1], dim=0) #Take the first(only one) batch and the last predicted embedding\n",
        "        next_token_id = choose_from_top(softmax_logits.to('cpu').numpy(), n=5) #Randomly(from the given probability distribution) choose the next word from the top n words\n",
        "        cur_ids = torch.cat([cur_ids, torch.ones((1,1)).long().to(device) * next_token_id], dim = 1) # Add the last word\n",
        "\n",
        "    output_list = list(cur_ids.squeeze().to('cpu').numpy())\n",
        "    output_text = tokenizer.decode(output_list)\n",
        "    print(output_text)"
      ],
      "execution_count": null,
      "outputs": []
    }
  ]
}